{
 "cells": [
  {
   "cell_type": "code",
   "execution_count": 2,
   "id": "ac2c7a58",
   "metadata": {},
   "outputs": [
    {
     "name": "stdout",
     "output_type": "stream",
     "text": [
      "\u001b[31mERROR: Exception:\r\n",
      "Traceback (most recent call last):\r\n",
      "  File \"/Users/asjadafnan/opt/anaconda3/lib/python3.9/site-packages/pip/_internal/cli/base_command.py\", line 173, in _main\r\n",
      "    status = self.run(options, args)\r\n",
      "  File \"/Users/asjadafnan/opt/anaconda3/lib/python3.9/site-packages/pip/_internal/cli/req_command.py\", line 203, in wrapper\r\n",
      "    return func(self, options, args)\r\n",
      "  File \"/Users/asjadafnan/opt/anaconda3/lib/python3.9/site-packages/pip/_internal/commands/install.py\", line 239, in run\r\n",
      "    options.use_user_site = decide_user_install(\r\n",
      "  File \"/Users/asjadafnan/opt/anaconda3/lib/python3.9/site-packages/pip/_internal/commands/install.py\", line 652, in decide_user_install\r\n",
      "    if site_packages_writable(root=root_path, isolated=isolated_mode):\r\n",
      "  File \"/Users/asjadafnan/opt/anaconda3/lib/python3.9/site-packages/pip/_internal/commands/install.py\", line 598, in site_packages_writable\r\n",
      "    get_lib_location_guesses(root=root, isolated=isolated))\r\n",
      "  File \"/Users/asjadafnan/opt/anaconda3/lib/python3.9/site-packages/pip/_internal/commands/install.py\", line 584, in get_lib_location_guesses\r\n",
      "    scheme = get_scheme(\r\n",
      "  File \"/Users/asjadafnan/opt/anaconda3/lib/python3.9/site-packages/pip/_internal/locations/__init__.py\", line 193, in get_scheme\r\n",
      "    old = _distutils.get_scheme(\r\n",
      "  File \"/Users/asjadafnan/opt/anaconda3/lib/python3.9/site-packages/pip/_internal/locations/_distutils.py\", line 130, in get_scheme\r\n",
      "    scheme = distutils_scheme(dist_name, user, home, root, isolated, prefix)\r\n",
      "  File \"/Users/asjadafnan/opt/anaconda3/lib/python3.9/site-packages/pip/_internal/locations/_distutils.py\", line 46, in distutils_scheme\r\n",
      "    d.parse_config_files()\r\n",
      "  File \"/Users/asjadafnan/opt/anaconda3/lib/python3.9/distutils/dist.py\", line 406, in parse_config_files\r\n",
      "    parser.read(filename)\r\n",
      "  File \"/Users/asjadafnan/opt/anaconda3/lib/python3.9/configparser.py\", line 697, in read\r\n",
      "    self._read(fp, filename)\r\n",
      "  File \"/Users/asjadafnan/opt/anaconda3/lib/python3.9/configparser.py\", line 1096, in _read\r\n",
      "    raise DuplicateOptionError(sectname, optname,\r\n",
      "configparser.DuplicateOptionError: While reading from '/Users/asjadafnan/.pydistutils.cfg' [line  3]: option 'include_dirs' in section 'build_ext' already exists\u001b[0m\r\n"
     ]
    }
   ],
   "source": []
  },
  {
   "cell_type": "code",
   "execution_count": null,
   "id": "7974829c",
   "metadata": {},
   "outputs": [],
   "source": []
  }
 ],
 "metadata": {
  "kernelspec": {
   "display_name": "Python 3 (ipykernel)",
   "language": "python",
   "name": "python3"
  },
  "language_info": {
   "codemirror_mode": {
    "name": "ipython",
    "version": 3
   },
   "file_extension": ".py",
   "mimetype": "text/x-python",
   "name": "python",
   "nbconvert_exporter": "python",
   "pygments_lexer": "ipython3",
   "version": "3.9.12"
  }
 },
 "nbformat": 4,
 "nbformat_minor": 5
}
